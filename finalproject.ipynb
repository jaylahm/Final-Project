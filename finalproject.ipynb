{
 "cells": [
  {
   "cell_type": "code",
   "execution_count": 4,
   "metadata": {},
   "outputs": [],
   "source": [
    "moon_sword = {'attack':3}\n",
    "sun_sword = {'attack':5}\n",
    "gauntlet = {'attack': 100}\n",
    "gold = {}\n",
    "silver = {}\n",
    "axe = {'attack':175}\n",
    "sun_gun = {'attack':1000}\n",
    "chain_star = {'attack':100}\n",
    "shark_ona_stick = {'attack':500}\n",
    "schizo_ray = {'attack':5000}\n",
    "crystal_staff = {'attack': 200}\n",
    "spear = {'attack':50}\n",
    "scythe = {'attack':50}\n",
    "waterStaff = {'attack':450}\n",
    "fireStaff = {'attack':450}\n",
    "earthStaff = {'attack':450}\n",
    "airStaff = {'attack':450}\n",
    "moonShield = {'defense':5000}\n",
    "bodyShield = {'attack': 50, 'defense': 100}\n",
    "snake_gun = {'attack':775}\n",
    "bunnyBazooka = {'attack':875}\n",
    "dual_blades = {'attack':300}\n",
    "giant_hammer = {'attack':250}\n",
    "bandages = {'hp':75}\n",
    "medkit = {'hp':100}\n",
    "slurpjuice = {'shield':100}\n",
    "bigShieldPotion = {'shield':50}\n",
    "smallShieldPotion = {'shield':25}\n",
    "vibraniumPotion = {'attack':500, 'shield':500}\n",
    "\n",
    "items = [moon_sword, sun_sword, gauntlet, gold, \n",
    "         silver, axe, sun_gun, chain_star, shark_ona_stick, \n",
    "         schizo_ray, crystal_staff, spear, scythe, waterStaff, \n",
    "         fireStaff, earthStaff, airStaff, moonShield, snake_gun, \n",
    "         bunnyBazooka, dual_blades, giant_hammer, bandages, medkit, \n",
    "         slurpjuice, bigShieldPotion, smallShieldPotion, vibraniumPotion]\n",
    "\n",
    "\n",
    "fighter = {'name': 'Marcos', \n",
    "        'attack': 150,\n",
    "        'defense': 100,\n",
    "        'hp': 100,\n",
    "        'shield': 0,\n",
    "        'weapon': axe}\n",
    "\n",
    "tank = {'name': 'Jaylah', \n",
    "        'attack': 100,\n",
    "        'defense': 250,\n",
    "        'hp': 100,\n",
    "        'shield': 50,\n",
    "        'weapon': bodyShield}\n",
    "\n",
    "mage = {'name': 'Domenica',\n",
    "        'attack': 50,\n",
    "        'defense': 50,\n",
    "        'hp': 100,\n",
    "        'shield': 0,\n",
    "        'weapon': crystal_staff}"
   ]
  },
  {
   "cell_type": "code",
   "execution_count": null,
   "metadata": {},
   "outputs": [],
   "source": []
  }
 ],
 "metadata": {
  "kernelspec": {
   "display_name": "Python 3",
   "language": "python",
   "name": "python3"
  },
  "language_info": {
   "codemirror_mode": {
    "name": "ipython",
    "version": 3
   },
   "file_extension": ".py",
   "mimetype": "text/x-python",
   "name": "python",
   "nbconvert_exporter": "python",
   "pygments_lexer": "ipython3",
   "version": "3.10.13"
  }
 },
 "nbformat": 4,
 "nbformat_minor": 2
}
